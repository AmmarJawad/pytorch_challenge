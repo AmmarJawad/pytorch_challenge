{
 "cells": [
  {
   "cell_type": "markdown",
   "metadata": {},
   "source": [
    "# Developing an AI application\n",
    "\n",
    "Going forward, AI algorithms will be incorporated into more and more everyday applications. For example, you might want to include an image classifier in a smart phone app. To do this, you'd use a deep learning model trained on hundreds of thousands of images as part of the overall application architecture. A large part of software development in the future will be using these types of models as common parts of applications. \n",
    "\n",
    "In this project, you'll train an image classifier to recognize different species of flowers. You can imagine using something like this in a phone app that tells you the name of the flower your camera is looking at. In practice you'd train this classifier, then export it for use in your application. We'll be using [this dataset](http://www.robots.ox.ac.uk/~vgg/data/flowers/102/index.html) of 102 flower categories, you can see a few examples below. \n",
    "\n",
    "<img src='assets/Flowers.png' width=500px>\n",
    "\n",
    "The project is broken down into multiple steps:\n",
    "\n",
    "* Load and preprocess the image dataset\n",
    "* Train the image classifier on your dataset\n",
    "* Use the trained classifier to predict image content\n",
    "\n",
    "We'll lead you through each part which you'll implement in Python.\n",
    "\n",
    "When you've completed this project, you'll have an application that can be trained on any set of labeled images. Here your network will be learning about flowers and end up as a command line application. But, what you do with your new skills depends on your imagination and effort in building a dataset. For example, imagine an app where you take a picture of a car, it tells you what the make and model is, then looks up information about it. Go build your own dataset and make something new.\n",
    "\n",
    "First up is importing the packages you'll need. It's good practice to keep all the imports at the beginning of your code. As you work through this notebook and find you need to import a package, make sure to add the import up here."
   ]
  },
  {
   "cell_type": "code",
   "execution_count": 7,
   "metadata": {},
   "outputs": [],
   "source": [
    "# Imports here\n",
    "%matplotlib inline\n",
    "%config InlineBackend.figure_format = 'retina'\n",
    "\n",
    "import matplotlib.pyplot as plt\n",
    "from collections import OrderedDict\n",
    "import torch\n",
    "from torch import nn\n",
    "from torch import optim\n",
    "import torch.nn.functional as F\n",
    "from torchvision import datasets, transforms, models"
   ]
  },
  {
   "cell_type": "markdown",
   "metadata": {},
   "source": [
    "## Load the data\n",
    "\n",
    "Here you'll use `torchvision` to load the data ([documentation](http://pytorch.org/docs/0.3.0/torchvision/index.html)). You can [download the data here](https://s3.amazonaws.com/content.udacity-data.com/courses/nd188/flower_data.zip). The dataset is split into two parts, training and validation. For the training, you'll want to apply transformations such as random scaling, cropping, and flipping. This will help the network generalize leading to better performance. If you use a pre-trained network, you'll also need to make sure the input data is resized to 224x224 pixels as required by the networks.\n",
    "\n",
    "The validation set is used to measure the model's performance on data it hasn't seen yet. For this you don't want any scaling or rotation transformations, but you'll need to resize then crop the images to the appropriate size.\n",
    "\n",
    "The pre-trained networks available from `torchvision` were trained on the ImageNet dataset where each color channel was normalized separately. For both sets you'll need to normalize the means and standard deviations of the images to what the network expects. For the means, it's `[0.485, 0.456, 0.406]` and for the standard deviations `[0.229, 0.224, 0.225]`, calculated from the ImageNet images.  These values will shift each color channel to be centered at 0 and range from -1 to 1."
   ]
  },
  {
   "cell_type": "code",
   "execution_count": 8,
   "metadata": {},
   "outputs": [],
   "source": [
    "data_dir = \"C:\\\\Users\\\\adoosh\\\\Documents\\\\pytorch_challenge_AJ\\\\flower_data\\\\\"\n",
    "train_dir = data_dir + 'train'\n",
    "valid_dir = data_dir + 'valid'"
   ]
  },
  {
   "cell_type": "code",
   "execution_count": 9,
   "metadata": {},
   "outputs": [],
   "source": [
    "# TODO: Define your transforms for the training and validation sets\n",
    "batch_size = 256\n",
    "\n",
    "train_transforms = transforms.Compose([transforms.RandomRotation(30),\n",
    "                                       transforms.RandomResizedCrop(224),\n",
    "                                       transforms.RandomHorizontalFlip(),\n",
    "                                       transforms.ToTensor(),\n",
    "                                       transforms.Normalize([0.485, 0.456, 0.406],\n",
    "                                                            [0.229, 0.224, 0.225])])\n",
    "\n",
    "test_transforms = transforms.Compose([transforms.Resize(255),\n",
    "                                      transforms.CenterCrop(224),\n",
    "                                      transforms.ToTensor(),\n",
    "                                      transforms.Normalize([0.485, 0.456, 0.406],\n",
    "                                                           [0.229, 0.224, 0.225])])\n",
    "\n",
    "# Pass transforms in here, then run the next cell to see how the transforms look\n",
    "train_data = datasets.ImageFolder(train_dir, transform=train_transforms)\n",
    "test_data = datasets.ImageFolder(valid_dir, transform=test_transforms)\n",
    "\n",
    "trainloader = torch.utils.data.DataLoader(train_data, batch_size=batch_size, shuffle=True)\n",
    "testloader = torch.utils.data.DataLoader(test_data, batch_size=batch_size)\n",
    "\n",
    "image_datasets = {\n",
    "    'train': datasets.ImageFolder(train_dir, transform=train_transforms),\n",
    "    'valid': datasets.ImageFolder(valid_dir, transform=test_transforms)\n",
    "}"
   ]
  },
  {
   "cell_type": "code",
   "execution_count": 10,
   "metadata": {},
   "outputs": [
    {
     "name": "stdout",
     "output_type": "stream",
     "text": [
      "fc1 input size needs to be:  1024\n"
     ]
    }
   ],
   "source": [
    "model = models.densenet121(pretrained=True)\n",
    "print ('fc1 input size needs to be: ', model.classifier.in_features)"
   ]
  },
  {
   "cell_type": "code",
   "execution_count": 11,
   "metadata": {},
   "outputs": [],
   "source": [
    "# Use GPU if it's available\n",
    "device = torch.device(\"cuda\" if torch.cuda.is_available() else \"cpu\")\n",
    "\n",
    "model = models.densenet121(pretrained=True)\n",
    "\n",
    "# Freeze parameters so we don't backprop through them\n",
    "for param in model.parameters():\n",
    "    param.requires_grad = False\n",
    "\n",
    "criterion = nn.CrossEntropyLoss()"
   ]
  },
  {
   "cell_type": "code",
   "execution_count": 12,
   "metadata": {},
   "outputs": [],
   "source": [
    "classifier = nn.Sequential(OrderedDict([\n",
    "                          ('fc1', nn.Linear(1024, 784)), #1024 because that's the input for a densenet\n",
    "                          ('relu', nn.ReLU()),\n",
    "                          ('dropout', nn.Dropout(0.25)),\n",
    "                          ('fc2', nn.Linear(784, 512)),\n",
    "                          ('relu', nn.ReLU()),\n",
    "                          ('dropout', nn.Dropout(0.25)),\n",
    "                          ('fc3', nn.Linear(512, 512)),\n",
    "                          ('relu', nn.ReLU()),\n",
    "                          ('dropout', nn.Dropout(0.25)),\n",
    "                          ('fc4', nn.Linear(512, 256)),\n",
    "                          ('relu', nn.ReLU()),\n",
    "                          ('dropout', nn.Dropout(0.25)),\n",
    "                          ('fc5', nn.Linear(256, 128)),\n",
    "                          ('relu', nn.ReLU()),\n",
    "                          ('dropout', nn.Dropout(0.25)),\n",
    "                          ('fc6', nn.Linear(128, 102)),\n",
    "                          ]))\n",
    "    \n",
    "model.classifier = classifier\n",
    "model.to(device);\n",
    "\n",
    "# Only train the classifier parameters, feature parameters are frozen\n",
    "optimizer = optim.Adam(model.classifier.parameters(), lr=0.003)"
   ]
  },
  {
   "cell_type": "markdown",
   "metadata": {},
   "source": [
    "### Label mapping\n",
    "\n",
    "You'll also need to load in a mapping from category label to category name. You can find this in the file `cat_to_name.json`. It's a JSON object which you can read in with the [`json` module](https://docs.python.org/2/library/json.html). This will give you a dictionary mapping the integer encoded categories to the actual names of the flowers."
   ]
  },
  {
   "cell_type": "code",
   "execution_count": 13,
   "metadata": {},
   "outputs": [],
   "source": [
    "import json\n",
    "\n",
    "with open('cat_to_name.json', 'r') as f:\n",
    "    cat_to_name = json.load(f)"
   ]
  },
  {
   "cell_type": "markdown",
   "metadata": {},
   "source": [
    "# Building and training the classifier\n",
    "\n",
    "Now that the data is ready, it's time to build and train the classifier. As usual, you should use one of the pretrained models from `torchvision.models` to get the image features. Build and train a new feed-forward classifier using those features.\n",
    "\n",
    "We're going to leave this part up to you. If you want to talk through it with someone, chat with your fellow students! You can also ask questions on the forums or join the instructors in office hours.\n",
    "\n",
    "Refer to [the rubric](https://review.udacity.com/#!/rubrics/1663/view) for guidance on successfully completing this section. Things you'll need to do:\n",
    "\n",
    "* Load a [pre-trained network](http://pytorch.org/docs/master/torchvision/models.html) (If you need a starting point, the VGG networks work great and are straightforward to use)\n",
    "* Define a new, untrained feed-forward network as a classifier, using ReLU activations and dropout\n",
    "* Train the classifier layers using backpropagation using the pre-trained network to get the features\n",
    "* Track the loss and accuracy on the validation set to determine the best hyperparameters\n",
    "\n",
    "We've left a cell open for you below, but use as many as you need. Our advice is to break the problem up into smaller parts you can run separately. Check that each part is doing what you expect, then move on to the next. You'll likely find that as you work through each part, you'll need to go back and modify your previous code. This is totally normal!\n",
    "\n",
    "When training make sure you're updating only the weights of the feed-forward network. You should be able to get the validation accuracy above 70% if you build everything right. Make sure to try different hyperparameters (learning rate, units in the classifier, epochs, etc) to find the best model. Save those hyperparameters to use as default values in the next part of the project."
   ]
  },
  {
   "cell_type": "code",
   "execution_count": null,
   "metadata": {},
   "outputs": [
    {
     "name": "stdout",
     "output_type": "stream",
     "text": [
      "Epoch 1/15.. Train loss: 4.562.. Test loss: 4.429.. Test accuracy: 0.081\n",
      "Epoch 1/15.. Train loss: 4.389.. Test loss: 4.037.. Test accuracy: 0.068\n",
      "Epoch 1/15.. Train loss: 4.099.. Test loss: 4.204.. Test accuracy: 0.051\n",
      "Epoch 1/15.. Train loss: 4.000.. Test loss: 3.671.. Test accuracy: 0.103\n",
      "Epoch 1/15.. Train loss: 3.685.. Test loss: 3.284.. Test accuracy: 0.207\n",
      "Epoch 2/15.. Train loss: 3.254.. Test loss: 2.818.. Test accuracy: 0.274\n",
      "Epoch 2/15.. Train loss: 2.933.. Test loss: 2.584.. Test accuracy: 0.280\n",
      "Epoch 2/15.. Train loss: 2.742.. Test loss: 2.285.. Test accuracy: 0.393\n",
      "Epoch 2/15.. Train loss: 2.493.. Test loss: 2.141.. Test accuracy: 0.412\n",
      "Epoch 2/15.. Train loss: 2.371.. Test loss: 1.973.. Test accuracy: 0.437\n",
      "Epoch 3/15.. Train loss: 2.198.. Test loss: 1.932.. Test accuracy: 0.466\n",
      "Epoch 3/15.. Train loss: 2.104.. Test loss: 1.621.. Test accuracy: 0.534\n",
      "Epoch 3/15.. Train loss: 2.119.. Test loss: 1.464.. Test accuracy: 0.596\n",
      "Epoch 3/15.. Train loss: 1.907.. Test loss: 1.413.. Test accuracy: 0.593\n",
      "Epoch 3/15.. Train loss: 1.899.. Test loss: 1.343.. Test accuracy: 0.607\n",
      "Epoch 4/15.. Train loss: 1.738.. Test loss: 1.203.. Test accuracy: 0.668\n",
      "Epoch 4/15.. Train loss: 1.600.. Test loss: 1.286.. Test accuracy: 0.639\n",
      "Epoch 4/15.. Train loss: 1.613.. Test loss: 1.064.. Test accuracy: 0.687\n",
      "Epoch 4/15.. Train loss: 1.522.. Test loss: 1.214.. Test accuracy: 0.639\n",
      "Epoch 4/15.. Train loss: 1.641.. Test loss: 1.029.. Test accuracy: 0.702\n",
      "Epoch 5/15.. Train loss: 1.582.. Test loss: 1.059.. Test accuracy: 0.721\n",
      "Epoch 5/15.. Train loss: 1.601.. Test loss: 1.020.. Test accuracy: 0.715\n",
      "Epoch 5/15.. Train loss: 1.498.. Test loss: 0.980.. Test accuracy: 0.696\n",
      "Epoch 5/15.. Train loss: 1.365.. Test loss: 1.030.. Test accuracy: 0.694\n",
      "Epoch 5/15.. Train loss: 1.424.. Test loss: 0.949.. Test accuracy: 0.734\n",
      "Epoch 5/15.. Train loss: 1.356.. Test loss: 0.966.. Test accuracy: 0.706\n",
      "Epoch 6/15.. Train loss: 1.501.. Test loss: 1.161.. Test accuracy: 0.665\n",
      "Epoch 6/15.. Train loss: 1.431.. Test loss: 0.874.. Test accuracy: 0.756\n",
      "Epoch 6/15.. Train loss: 1.390.. Test loss: 0.940.. Test accuracy: 0.743\n",
      "Epoch 6/15.. Train loss: 1.394.. Test loss: 0.871.. Test accuracy: 0.750\n",
      "Epoch 6/15.. Train loss: 1.454.. Test loss: 0.865.. Test accuracy: 0.771\n",
      "Epoch 7/15.. Train loss: 1.281.. Test loss: 0.762.. Test accuracy: 0.776\n",
      "Epoch 7/15.. Train loss: 1.250.. Test loss: 0.934.. Test accuracy: 0.752\n",
      "Epoch 7/15.. Train loss: 1.282.. Test loss: 0.779.. Test accuracy: 0.783\n",
      "Epoch 7/15.. Train loss: 1.316.. Test loss: 1.095.. Test accuracy: 0.700\n",
      "Epoch 7/15.. Train loss: 1.343.. Test loss: 0.865.. Test accuracy: 0.742\n",
      "Epoch 8/15.. Train loss: 1.315.. Test loss: 0.743.. Test accuracy: 0.794\n",
      "Epoch 8/15.. Train loss: 1.195.. Test loss: 0.737.. Test accuracy: 0.804\n",
      "Epoch 8/15.. Train loss: 1.178.. Test loss: 0.775.. Test accuracy: 0.761\n",
      "Epoch 8/15.. Train loss: 1.252.. Test loss: 0.831.. Test accuracy: 0.746\n",
      "Epoch 8/15.. Train loss: 1.238.. Test loss: 0.778.. Test accuracy: 0.792\n",
      "Epoch 9/15.. Train loss: 1.242.. Test loss: 0.742.. Test accuracy: 0.790\n",
      "Epoch 9/15.. Train loss: 1.219.. Test loss: 0.933.. Test accuracy: 0.764\n",
      "Epoch 9/15.. Train loss: 1.167.. Test loss: 0.694.. Test accuracy: 0.798\n",
      "Epoch 9/15.. Train loss: 1.129.. Test loss: 0.689.. Test accuracy: 0.811\n",
      "Epoch 9/15.. Train loss: 1.145.. Test loss: 0.734.. Test accuracy: 0.810\n",
      "Epoch 10/15.. Train loss: 1.186.. Test loss: 0.685.. Test accuracy: 0.803\n",
      "Epoch 10/15.. Train loss: 1.176.. Test loss: 0.746.. Test accuracy: 0.784\n",
      "Epoch 10/15.. Train loss: 1.167.. Test loss: 0.626.. Test accuracy: 0.822\n",
      "Epoch 10/15.. Train loss: 1.160.. Test loss: 0.677.. Test accuracy: 0.812\n",
      "Epoch 10/15.. Train loss: 1.023.. Test loss: 0.646.. Test accuracy: 0.817\n",
      "Epoch 10/15.. Train loss: 1.134.. Test loss: 0.735.. Test accuracy: 0.801\n",
      "Epoch 11/15.. Train loss: 1.141.. Test loss: 0.828.. Test accuracy: 0.778\n",
      "Epoch 11/15.. Train loss: 1.170.. Test loss: 0.747.. Test accuracy: 0.804\n",
      "Epoch 11/15.. Train loss: 1.096.. Test loss: 0.740.. Test accuracy: 0.790\n",
      "Epoch 11/15.. Train loss: 1.226.. Test loss: 0.771.. Test accuracy: 0.811\n",
      "Epoch 11/15.. Train loss: 1.144.. Test loss: 0.629.. Test accuracy: 0.825\n",
      "Epoch 12/15.. Train loss: 1.087.. Test loss: 0.717.. Test accuracy: 0.811\n",
      "Epoch 12/15.. Train loss: 1.050.. Test loss: 0.671.. Test accuracy: 0.828\n",
      "Epoch 12/15.. Train loss: 1.105.. Test loss: 0.695.. Test accuracy: 0.819\n",
      "Epoch 12/15.. Train loss: 1.093.. Test loss: 0.738.. Test accuracy: 0.818\n",
      "Epoch 12/15.. Train loss: 1.273.. Test loss: 0.717.. Test accuracy: 0.825\n"
     ]
    }
   ],
   "source": [
    "epochs = 15\n",
    "steps = 0\n",
    "running_loss = 0\n",
    "print_every = 5\n",
    "for epoch in range(epochs):\n",
    "    for inputs, labels in trainloader:\n",
    "        steps += 1\n",
    "        # Move input and label tensors to the default device\n",
    "        inputs, labels = inputs.to(device), labels.to(device)\n",
    "        \n",
    "        optimizer.zero_grad()\n",
    "        \n",
    "        logps = model.forward(inputs)\n",
    "        loss = criterion(logps, labels)\n",
    "        loss.backward()\n",
    "        optimizer.step()\n",
    "\n",
    "        running_loss += loss.item()\n",
    "        \n",
    "        if steps % print_every == 0:\n",
    "            test_loss = 0\n",
    "            accuracy = 0\n",
    "            model.eval()\n",
    "            with torch.no_grad():\n",
    "                for inputs, labels in testloader:\n",
    "                    inputs, labels = inputs.to(device), labels.to(device)\n",
    "                    logps = model.forward(inputs)\n",
    "                    batch_loss = criterion(logps, labels)\n",
    "                    \n",
    "                    test_loss += batch_loss.item()\n",
    "                    \n",
    "                    # Calculate accuracy\n",
    "                    ps = torch.exp(logps)\n",
    "                    top_p, top_class = ps.topk(1, dim=1)\n",
    "                    equals = top_class == labels.view(*top_class.shape)\n",
    "                    accuracy += torch.mean(equals.type(torch.FloatTensor)).item()\n",
    "                    \n",
    "            print(f\"Epoch {epoch+1}/{epochs}.. \"\n",
    "                  f\"Train loss: {running_loss/print_every:.3f}.. \"\n",
    "                  f\"Test loss: {test_loss/len(testloader):.3f}.. \"\n",
    "                  f\"Test accuracy: {accuracy/len(testloader):.3f}\")\n",
    "            running_loss = 0\n",
    "            model.train()"
   ]
  },
  {
   "cell_type": "markdown",
   "metadata": {},
   "source": [
    "## Save the checkpoint\n",
    "\n",
    "Now that your network is trained, save the model so you can load it later for making predictions. You probably want to save other things such as the mapping of classes to indices which you get from one of the image datasets: `image_datasets['train'].class_to_idx`. You can attach this to the model as an attribute which makes inference easier later on.\n",
    "\n",
    "```model.class_to_idx = image_datasets['train'].class_to_idx```\n",
    "\n",
    "Remember that you'll want to completely rebuild the model later so you can use it for inference. Make sure to include any information you need in the checkpoint. If you want to load the model and keep training, you'll want to save the number of epochs as well as the optimizer state, `optimizer.state_dict`. You'll likely want to use this trained model in the next part of the project, so best to save it now."
   ]
  },
  {
   "cell_type": "code",
   "execution_count": null,
   "metadata": {},
   "outputs": [],
   "source": [
    "# TODO: Save the checkpoint\n",
    "# send model to CPU to prepare for export\n",
    "model.cpu()\n",
    "\n",
    "# save mapping of classes to indices\n",
    "model.class_to_idx = image_datasets['train'].class_to_idx\n",
    "\n",
    "# save num of epochs to the checkpoint\n",
    "model.epochs = epochs\n",
    "\n",
    "# specifying the checkpoint\n",
    "checkpoint = {'input_size': [3, 224, 224],\n",
    "                 'batch_size': trainloader.batch_size,\n",
    "                  'output_size': 102,\n",
    "                  'state_dict': model.state_dict(),\n",
    "                  'optimizer_dict':optimizer.state_dict(),\n",
    "                  'class_to_idx': model.class_to_idx,\n",
    "                  'epoch': model.epochs}\n",
    "\n",
    "# save the checkpoint\n",
    "torch.save(checkpoint, 'dense121_flower_v2.pth')"
   ]
  },
  {
   "cell_type": "markdown",
   "metadata": {},
   "source": [
    "## Loading the checkpoint\n",
    "\n",
    "At this point it's good to write a function that can load a checkpoint and rebuild the model. That way you can come back to this project and keep working on it without having to retrain the network."
   ]
  },
  {
   "cell_type": "code",
   "execution_count": null,
   "metadata": {},
   "outputs": [],
   "source": [
    "# TODO: Write a function that loads a checkpoint and rebuilds the model\n",
    "from torch import nn\n",
    "from torch import optim\n",
    "import torch\n",
    "from torchvision import models\n",
    "\n",
    "\n",
    "model = models.densenet121(pretrained=False)\n",
    "\n",
    "from collections import OrderedDict\n",
    "classifier = nn.Sequential(OrderedDict([\n",
    "                          ('fc1', nn.Linear(1024, 784)), #1024 because that's the input for a densenet\n",
    "                          ('relu', nn.ReLU()),\n",
    "                          ('dropout', nn.Dropout(0.25)),\n",
    "                          ('fc2', nn.Linear(784, 512)),\n",
    "                          ('relu', nn.ReLU()),\n",
    "                          ('dropout', nn.Dropout(0.25)),\n",
    "                          ('fc3', nn.Linear(512, 512)),\n",
    "                          ('relu', nn.ReLU()),\n",
    "                          ('dropout', nn.Dropout(0.25)),\n",
    "                          ('fc4', nn.Linear(512, 256)),\n",
    "                          ('relu', nn.ReLU()),\n",
    "                          ('dropout', nn.Dropout(0.25)),\n",
    "                          ('fc5', nn.Linear(256, 128)),\n",
    "                          ('relu', nn.ReLU()),\n",
    "                          ('dropout', nn.Dropout(0.25)),\n",
    "                          ('fc6', nn.Linear(128, 102)),\n",
    "                          ('output', nn.LogSoftmax(dim=1))\n",
    "                          ]))\n",
    "    \n",
    "model.classifier = classifier\n",
    "checkpoint = torch.load('dense121_flower.pth', map_location='cpu')\n",
    "model.load_state_dict(checkpoint['state_dict'], strict=False)"
   ]
  },
  {
   "cell_type": "markdown",
   "metadata": {},
   "source": [
    "# Inference for classification\n",
    "\n",
    "Now you'll write a function to use a trained network for inference. That is, you'll pass an image into the network and predict the class of the flower in the image. Write a function called `predict` that takes an image and a model, then returns the top $K$ most likely classes along with the probabilities. It should look like \n",
    "\n",
    "```python\n",
    "probs, classes = predict(image_path, model)\n",
    "print(probs)\n",
    "print(classes)\n",
    "> [ 0.01558163  0.01541934  0.01452626  0.01443549  0.01407339]\n",
    "> ['70', '3', '45', '62', '55']\n",
    "```\n",
    "\n",
    "First you'll need to handle processing the input image such that it can be used in your network. \n",
    "\n",
    "## Image Preprocessing\n",
    "\n",
    "You'll want to use `PIL` to load the image ([documentation](https://pillow.readthedocs.io/en/latest/reference/Image.html)). It's best to write a function that preprocesses the image so it can be used as input for the model. This function should process the images in the same manner used for training. \n",
    "\n",
    "First, resize the images where the shortest side is 256 pixels, keeping the aspect ratio. This can be done with the [`thumbnail`](http://pillow.readthedocs.io/en/3.1.x/reference/Image.html#PIL.Image.Image.thumbnail) or [`resize`](http://pillow.readthedocs.io/en/3.1.x/reference/Image.html#PIL.Image.Image.thumbnail) methods. Then you'll need to crop out the center 224x224 portion of the image.\n",
    "\n",
    "Color channels of images are typically encoded as integers 0-255, but the model expected floats 0-1. You'll need to convert the values. It's easiest with a Numpy array, which you can get from a PIL image like so `np_image = np.array(pil_image)`.\n",
    "\n",
    "As before, the network expects the images to be normalized in a specific way. For the means, it's `[0.485, 0.456, 0.406]` and for the standard deviations `[0.229, 0.224, 0.225]`. You'll want to subtract the means from each color channel, then divide by the standard deviation. \n",
    "\n",
    "And finally, PyTorch expects the color channel to be the first dimension but it's the third dimension in the PIL image and Numpy array. You can reorder dimensions using [`ndarray.transpose`](https://docs.scipy.org/doc/numpy-1.13.0/reference/generated/numpy.ndarray.transpose.html). The color channel needs to be first and retain the order of the other two dimensions."
   ]
  },
  {
   "cell_type": "code",
   "execution_count": null,
   "metadata": {},
   "outputs": [],
   "source": [
    "def process_image(image):\n",
    "    ''' Scales, crops, and normalizes a PIL image for a PyTorch model,\n",
    "        returns an Numpy array\n",
    "    '''\n",
    "    \n",
    "    # TODO: Process a PIL image for use in a PyTorch model"
   ]
  },
  {
   "cell_type": "markdown",
   "metadata": {},
   "source": [
    "To check your work, the function below converts a PyTorch tensor and displays it in the notebook. If your `process_image` function works, running the output through this function should return the original image (except for the cropped out portions)."
   ]
  },
  {
   "cell_type": "code",
   "execution_count": null,
   "metadata": {},
   "outputs": [],
   "source": [
    "def imshow(image, ax=None, title=None):\n",
    "    \"\"\"Imshow for Tensor.\"\"\"\n",
    "    if ax is None:\n",
    "        fig, ax = plt.subplots()\n",
    "    \n",
    "    # PyTorch tensors assume the color channel is the first dimension\n",
    "    # but matplotlib assumes is the third dimension\n",
    "    image = image.numpy().transpose((1, 2, 0))\n",
    "    \n",
    "    # Undo preprocessing\n",
    "    mean = np.array([0.485, 0.456, 0.406])\n",
    "    std = np.array([0.229, 0.224, 0.225])\n",
    "    image = std * image + mean\n",
    "    \n",
    "    # Image needs to be clipped between 0 and 1 or it looks like noise when displayed\n",
    "    image = np.clip(image, 0, 1)\n",
    "    \n",
    "    ax.imshow(image)\n",
    "    \n",
    "    return ax"
   ]
  },
  {
   "cell_type": "markdown",
   "metadata": {},
   "source": [
    "## Class Prediction\n",
    "\n",
    "Once you can get images in the correct format, it's time to write a function for making predictions with your model. A common practice is to predict the top 5 or so (usually called top-$K$) most probable classes. You'll want to calculate the class probabilities then find the $K$ largest values.\n",
    "\n",
    "To get the top $K$ largest values in a tensor use [`x.topk(k)`](http://pytorch.org/docs/master/torch.html#torch.topk). This method returns both the highest `k` probabilities and the indices of those probabilities corresponding to the classes. You need to convert from these indices to the actual class labels using `class_to_idx` which hopefully you added to the model or from an `ImageFolder` you used to load the data ([see here](#Save-the-checkpoint)). Make sure to invert the dictionary so you get a mapping from index to class as well.\n",
    "\n",
    "Again, this method should take a path to an image and a model checkpoint, then return the probabilities and classes.\n",
    "\n",
    "```python\n",
    "probs, classes = predict(image_path, model)\n",
    "print(probs)\n",
    "print(classes)\n",
    "> [ 0.01558163  0.01541934  0.01452626  0.01443549  0.01407339]\n",
    "> ['70', '3', '45', '62', '55']\n",
    "```"
   ]
  },
  {
   "cell_type": "code",
   "execution_count": null,
   "metadata": {},
   "outputs": [],
   "source": [
    "def predict(image_path, model, topk=5):\n",
    "    ''' Predict the class (or classes) of an image using a trained deep learning model.\n",
    "    '''\n",
    "    \n",
    "    # TODO: Implement the code to predict the class from an image file"
   ]
  },
  {
   "cell_type": "markdown",
   "metadata": {},
   "source": [
    "## Sanity Checking\n",
    "\n",
    "Now that you can use a trained model for predictions, check to make sure it makes sense. Even if the validation accuracy is high, it's always good to check that there aren't obvious bugs. Use `matplotlib` to plot the probabilities for the top 5 classes as a bar graph, along with the input image. It should look like this:\n",
    "\n",
    "<img src='assets/inference_example.png' width=300px>\n",
    "\n",
    "You can convert from the class integer encoding to actual flower names with the `cat_to_name.json` file (should have been loaded earlier in the notebook). To show a PyTorch tensor as an image, use the `imshow` function defined above."
   ]
  },
  {
   "cell_type": "code",
   "execution_count": null,
   "metadata": {},
   "outputs": [],
   "source": [
    "# TODO: Display an image along with the top 5 classes"
   ]
  }
 ],
 "metadata": {
  "kernelspec": {
   "display_name": "Python 3",
   "language": "python",
   "name": "python3"
  },
  "language_info": {
   "codemirror_mode": {
    "name": "ipython",
    "version": 3
   },
   "file_extension": ".py",
   "mimetype": "text/x-python",
   "name": "python",
   "nbconvert_exporter": "python",
   "pygments_lexer": "ipython3",
   "version": "3.7.1"
  }
 },
 "nbformat": 4,
 "nbformat_minor": 2
}
